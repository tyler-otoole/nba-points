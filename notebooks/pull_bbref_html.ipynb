{
 "cells": [
  {
   "cell_type": "code",
   "execution_count": 4,
   "metadata": {},
   "outputs": [],
   "source": [
    "# import libraries\n",
    "import requests\n",
    "from bs4 import BeautifulSoup"
   ]
  },
  {
   "cell_type": "code",
   "execution_count": 5,
   "metadata": {},
   "outputs": [
    {
     "name": "stdout",
     "output_type": "stream",
     "text": [
      "html saved successfully\n"
     ]
    }
   ],
   "source": [
    "# pull and save html to file\n",
    "\n",
    "# define target url that you want to scrape from\n",
    "url = \"https://www.basketball-reference.com/leagues/NBA_2025_games-march.html#schedule\"\n",
    "# define headers to mimic a real browser\n",
    "headers = {\n",
    "    # look for these by inspecting element on the above page > network tab >\n",
    "    # click on first element with 200 status > scroll down for User-Agent, Accept-Language, Referer\n",
    "    \"User-Agent\": \"Mozilla/5.0 (Macintosh; Intel Mac OS X 10.15; rv:136.0) Gecko/20100101 Firefox/136.0\",\n",
    "    \"Accept-Language\": \"en-US,en;q=0.5\"\n",
    "}\n",
    "# send the request with the headers\n",
    "response = requests.get(url, headers=headers)\n",
    "# save the html to a file, so you don't have to access the page anymore\n",
    "with open('../data/raw/202503_bbref.html', 'w', encoding='utf-8') as file:\n",
    "    file.write(response.text)\n",
    "print('html saved successfully')"
   ]
  }
 ],
 "metadata": {
  "kernelspec": {
   "display_name": "venv",
   "language": "python",
   "name": "python3"
  },
  "language_info": {
   "codemirror_mode": {
    "name": "ipython",
    "version": 3
   },
   "file_extension": ".py",
   "mimetype": "text/x-python",
   "name": "python",
   "nbconvert_exporter": "python",
   "pygments_lexer": "ipython3",
   "version": "3.13.0"
  }
 },
 "nbformat": 4,
 "nbformat_minor": 2
}
