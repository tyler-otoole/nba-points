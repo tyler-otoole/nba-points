{
 "cells": [
  {
   "cell_type": "code",
   "execution_count": 39,
   "metadata": {},
   "outputs": [],
   "source": [
    "# import libraries\n",
    "import pandas as pd\n",
    "import requests\n",
    "from bs4 import BeautifulSoup"
   ]
  },
  {
   "cell_type": "code",
   "execution_count": 40,
   "metadata": {},
   "outputs": [],
   "source": [
    "# open the html file and use html parser to turn it into a soup object\n",
    "\n",
    "# Load the saved HTML file\n",
    "with open(\"../data/raw/202503_bbref.html\", \"r\", encoding=\"utf-8\") as file:\n",
    "    html_content = file.read()\n",
    "# Parse the HTML\n",
    "soup = BeautifulSoup(html_content, \"html.parser\")"
   ]
  },
  {
   "cell_type": "code",
   "execution_count": 41,
   "metadata": {},
   "outputs": [
    {
     "name": "stdout",
     "output_type": "stream",
     "text": [
      "Headers: ['Date', 'Start (ET)', 'Visitor/Neutral', 'PTS', 'Home/Neutral', 'PTS', '', '', 'Attend.', 'LOG', 'Arena', 'Notes']\n"
     ]
    }
   ],
   "source": [
    "# parse soup object to get the info needed\n",
    "\n",
    "# Find the table container div\n",
    "table_container = soup.find(\"div\", class_=\"table_container\", id=\"div_schedule\")\n",
    "# Find the actual table inside this div\n",
    "table = table_container.find(\"table\") if table_container else None\n",
    "# Extract column headers\n",
    "headers = [th.text.strip() for th in table.find(\"thead\").find(\"tr\").find_all(\"th\")]\n",
    "\n",
    "# print the headers\n",
    "print(\"Headers:\", headers)"
   ]
  },
  {
   "cell_type": "code",
   "execution_count": 42,
   "metadata": {},
   "outputs": [
    {
     "name": "stdout",
     "output_type": "stream",
     "text": [
      "['Sat, Mar 1, 2025', '6:00p', 'Washington Wizards', '113', 'Charlotte Hornets', '100', 'Box Score', '', '17,904', '1:59', 'Spectrum Center', '']\n",
      "['Sat, Mar 1, 2025', '7:00p', 'Brooklyn Nets', '94', 'Detroit Pistons', '115', 'Box Score', '', '20,062', '2:23', 'Little Caesars Arena', '']\n",
      "['Sat, Mar 1, 2025', '8:00p', 'Sacramento Kings', '113', 'Houston Rockets', '103', 'Box Score', '', '18,055', '2:10', 'Toyota Center', '']\n",
      "['Sat, Mar 1, 2025', '8:00p', 'San Antonio Spurs', '130', 'Memphis Grizzlies', '128', 'Box Score', '', '16,822', '2:18', 'FedEx Forum', '']\n",
      "['Sat, Mar 1, 2025', '8:30p', 'Milwaukee Bucks', '132', 'Dallas Mavericks', '117', 'Box Score', '', '20,272', '2:16', 'American Airlines Center', '']\n",
      "['Sat, Mar 1, 2025', '8:30p', 'Golden State Warriors', '119', 'Philadelphia 76ers', '126', 'Box Score', '', '20,159', '2:30', 'Wells Fargo Center', '']\n",
      "['Sun, Mar 2, 2025', '1:00p', 'Denver Nuggets', '103', 'Boston Celtics', '110', 'Box Score', '', '19,156', '2:18', 'TD Garden', '']\n",
      "['Sun, Mar 2, 2025', '3:30p', 'Portland Trail Blazers', '129', 'Cleveland Cavaliers', '133', 'Box Score', 'OT', '19,432', '2:51', 'Rocket Arena', '']\n",
      "['Sun, Mar 2, 2025', '5:00p', 'Chicago Bulls', '112', 'Indiana Pacers', '127', 'Box Score', '', '17,028', '2:05', 'Gainbridge Fieldhouse', '']\n",
      "['Sun, Mar 2, 2025', '6:00p', 'New York Knicks', '116', 'Miami Heat', '112', 'Box Score', 'OT', '19,725', '2:32', 'Kaseya Center', '']\n"
     ]
    }
   ],
   "source": [
    "# Extract table rows\n",
    "rows = []\n",
    "\n",
    "tbody = table.find(\"tbody\")\n",
    "for tr in tbody.find_all(\"tr\"):\n",
    "    cells = []\n",
    "    \n",
    "    # Extract data from <th> (first column)\n",
    "    th = tr.find(\"th\")\n",
    "    if th:\n",
    "        a_tag = th.find(\"a\")\n",
    "        cells.append(a_tag.text.strip() if a_tag else th.text.strip())  # Handle <a> inside <th>\n",
    "\n",
    "    # Extract remaining data from <td>\n",
    "    for td in tr.find_all(\"td\"):\n",
    "        a_tag = td.find(\"a\")\n",
    "        cells.append(a_tag.text.strip() if a_tag else td.text.strip())  # Handle <a> inside <td>\n",
    "\n",
    "    rows.append(cells)\n",
    "\n",
    "# Print extracted table data\n",
    "for row in rows[0:10]:\n",
    "    print(row)"
   ]
  },
  {
   "cell_type": "code",
   "execution_count": 43,
   "metadata": {},
   "outputs": [
    {
     "data": {
      "text/html": [
       "<div>\n",
       "<style scoped>\n",
       "    .dataframe tbody tr th:only-of-type {\n",
       "        vertical-align: middle;\n",
       "    }\n",
       "\n",
       "    .dataframe tbody tr th {\n",
       "        vertical-align: top;\n",
       "    }\n",
       "\n",
       "    .dataframe thead th {\n",
       "        text-align: right;\n",
       "    }\n",
       "</style>\n",
       "<table border=\"1\" class=\"dataframe\">\n",
       "  <thead>\n",
       "    <tr style=\"text-align: right;\">\n",
       "      <th></th>\n",
       "      <th>Start Datetime</th>\n",
       "      <th>Away</th>\n",
       "      <th>Away Points</th>\n",
       "      <th>Home</th>\n",
       "      <th>Home Points</th>\n",
       "      <th>Attendance</th>\n",
       "      <th>Length</th>\n",
       "      <th>Arena</th>\n",
       "      <th>Notes</th>\n",
       "    </tr>\n",
       "  </thead>\n",
       "  <tbody>\n",
       "    <tr>\n",
       "      <th>0</th>\n",
       "      <td>2025-03-01 18:00:00</td>\n",
       "      <td>Washington Wizards</td>\n",
       "      <td>113</td>\n",
       "      <td>Charlotte Hornets</td>\n",
       "      <td>100</td>\n",
       "      <td>17,904</td>\n",
       "      <td>1:59</td>\n",
       "      <td>Spectrum Center</td>\n",
       "      <td></td>\n",
       "    </tr>\n",
       "    <tr>\n",
       "      <th>1</th>\n",
       "      <td>2025-03-01 19:00:00</td>\n",
       "      <td>Brooklyn Nets</td>\n",
       "      <td>94</td>\n",
       "      <td>Detroit Pistons</td>\n",
       "      <td>115</td>\n",
       "      <td>20,062</td>\n",
       "      <td>2:23</td>\n",
       "      <td>Little Caesars Arena</td>\n",
       "      <td></td>\n",
       "    </tr>\n",
       "    <tr>\n",
       "      <th>2</th>\n",
       "      <td>2025-03-01 20:00:00</td>\n",
       "      <td>Sacramento Kings</td>\n",
       "      <td>113</td>\n",
       "      <td>Houston Rockets</td>\n",
       "      <td>103</td>\n",
       "      <td>18,055</td>\n",
       "      <td>2:10</td>\n",
       "      <td>Toyota Center</td>\n",
       "      <td></td>\n",
       "    </tr>\n",
       "    <tr>\n",
       "      <th>3</th>\n",
       "      <td>2025-03-01 20:00:00</td>\n",
       "      <td>San Antonio Spurs</td>\n",
       "      <td>130</td>\n",
       "      <td>Memphis Grizzlies</td>\n",
       "      <td>128</td>\n",
       "      <td>16,822</td>\n",
       "      <td>2:18</td>\n",
       "      <td>FedEx Forum</td>\n",
       "      <td></td>\n",
       "    </tr>\n",
       "    <tr>\n",
       "      <th>4</th>\n",
       "      <td>2025-03-01 20:30:00</td>\n",
       "      <td>Milwaukee Bucks</td>\n",
       "      <td>132</td>\n",
       "      <td>Dallas Mavericks</td>\n",
       "      <td>117</td>\n",
       "      <td>20,272</td>\n",
       "      <td>2:16</td>\n",
       "      <td>American Airlines Center</td>\n",
       "      <td></td>\n",
       "    </tr>\n",
       "  </tbody>\n",
       "</table>\n",
       "</div>"
      ],
      "text/plain": [
       "       Start Datetime                Away Away Points               Home  \\\n",
       "0 2025-03-01 18:00:00  Washington Wizards         113  Charlotte Hornets   \n",
       "1 2025-03-01 19:00:00       Brooklyn Nets          94    Detroit Pistons   \n",
       "2 2025-03-01 20:00:00    Sacramento Kings         113    Houston Rockets   \n",
       "3 2025-03-01 20:00:00   San Antonio Spurs         130  Memphis Grizzlies   \n",
       "4 2025-03-01 20:30:00     Milwaukee Bucks         132   Dallas Mavericks   \n",
       "\n",
       "  Home Points Attendance Length                     Arena Notes  \n",
       "0         100     17,904   1:59           Spectrum Center        \n",
       "1         115     20,062   2:23      Little Caesars Arena        \n",
       "2         103     18,055   2:10             Toyota Center        \n",
       "3         128     16,822   2:18               FedEx Forum        \n",
       "4         117     20,272   2:16  American Airlines Center        "
      ]
     },
     "execution_count": 43,
     "metadata": {},
     "output_type": "execute_result"
    }
   ],
   "source": [
    "# Create a DataFrame from the headers and rows from above\n",
    "df = pd.DataFrame(rows, columns=headers)\n",
    "\n",
    "# drop empty / nameless columns\n",
    "df = df.drop(columns = [col for col in df.columns if col == ''])\n",
    "# rename coumns\n",
    "df.columns = ['Date', 'Start Time', 'Away', 'Away Points', 'Home', 'Home Points', 'Attendance', 'Length', 'Arena', 'Notes']\n",
    "# date column to date type\n",
    "df[\"Date\"] = pd.to_datetime(df[\"Date\"], format=\"%a, %b %d, %Y\")\n",
    "# Fix \"Start Time\" formatting by appending \"m\" and converting to time\n",
    "df[\"Start Time\"] = pd.to_datetime(df[\"Start Time\"].str.replace(\"p\", \"PM\").str.replace(\"a\", \"AM\"), format=\"%I:%M%p\").dt.time\n",
    "# Combine 'Date' and 'Start Time' into a full datetime\n",
    "df[\"Start Datetime\"] = df.apply(lambda row: pd.Timestamp.combine(row[\"Date\"], row[\"Start Time\"]), axis=1)\n",
    "# drop duplicate columns\n",
    "df.drop(columns = ['Date', 'Start Time'], inplace=True)\n",
    "# reorder columns\n",
    "cols = ['Start Datetime'] + [col for col in df.columns if col != 'Start Datetime']\n",
    "df = df[cols]\n",
    "\n",
    "# look at it!\n",
    "df.head()\n"
   ]
  }
 ],
 "metadata": {
  "kernelspec": {
   "display_name": "venv",
   "language": "python",
   "name": "python3"
  },
  "language_info": {
   "codemirror_mode": {
    "name": "ipython",
    "version": 3
   },
   "file_extension": ".py",
   "mimetype": "text/x-python",
   "name": "python",
   "nbconvert_exporter": "python",
   "pygments_lexer": "ipython3",
   "version": "3.13.0"
  }
 },
 "nbformat": 4,
 "nbformat_minor": 2
}
