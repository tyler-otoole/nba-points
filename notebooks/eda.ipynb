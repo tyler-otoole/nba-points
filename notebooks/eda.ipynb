{
 "cells": [
  {
   "cell_type": "code",
   "execution_count": 42,
   "metadata": {},
   "outputs": [],
   "source": [
    "import pandas as pd\n",
    "from functools import reduce\n",
    "import matplotlib.pyplot as plt"
   ]
  },
  {
   "cell_type": "code",
   "execution_count": 43,
   "metadata": {},
   "outputs": [],
   "source": [
    "file_path = '../data/nba_points_2024_2025.xlsx'\n",
    "df = pd.read_excel(file_path, usecols=\"A:T\")"
   ]
  },
  {
   "cell_type": "code",
   "execution_count": 44,
   "metadata": {},
   "outputs": [
    {
     "data": {
      "text/plain": [
       "Index(['Date', 'Weekday', 'Away', 'Home', 'NBA Cup Game', 'Crew Chief',\n",
       "       'Referee', 'Umpire', 'Open Total', 'Open Home Spread', 'Away Points',\n",
       "       'Home Points', 'Actual Total', 'Actual Home Spread', 'Game Count',\n",
       "       'Over', 'Over Amount', 'Under', 'Under Amount', 'Push'],\n",
       "      dtype='object')"
      ]
     },
     "execution_count": 44,
     "metadata": {},
     "output_type": "execute_result"
    }
   ],
   "source": [
    "df.columns"
   ]
  },
  {
   "cell_type": "code",
   "execution_count": 45,
   "metadata": {},
   "outputs": [],
   "source": [
    "df['Home Win'] = (df['Home Points'] > df['Away Points']).astype(int)\n",
    "df['Away Win'] = (df['Away Points'] > df['Home Points']).astype(int)"
   ]
  },
  {
   "cell_type": "code",
   "execution_count": 46,
   "metadata": {},
   "outputs": [
    {
     "name": "stdout",
     "output_type": "stream",
     "text": [
      "GAMES TRACKED:  559\n",
      "AVG. OPEN TOTAL:  225.69\n",
      "AVG. ACTUAL TOTAL:  225.64\n",
      "OVERS:  50.09 %\n",
      "UNDERS:  49.73 %\n"
     ]
    }
   ],
   "source": [
    "print('GAMES TRACKED: ', round(df['Game Count'].sum()))\n",
    "print('AVG. OPEN TOTAL: ', round(df['Open Total'].mean(), 2))\n",
    "print('AVG. ACTUAL TOTAL: ', round(df['Actual Total'].mean(), 2))\n",
    "print('OVERS: ', round(df['Over'].sum()/df['Game Count'].sum() * 100, 2), '%')\n",
    "print('UNDERS: ', round(df['Under'].sum()/df['Game Count'].sum() * 100, 2), '%')"
   ]
  },
  {
   "cell_type": "code",
   "execution_count": 47,
   "metadata": {},
   "outputs": [],
   "source": [
    "game_counts = df.groupby(['Crew Chief'])['Game Count'].sum().reset_index(name='games')\n",
    "over_percs = round(df.groupby(['Crew Chief'])['Over'].sum()/df.groupby('Crew Chief')['Game Count'].sum() * 100, 2).reset_index(name='over_percentage')\n",
    "over_by_avg = round(df.groupby(['Crew Chief'])['Over Amount'].mean(), 2).reset_index(name='over_by_avg')\n",
    "over_by_std = round(df.groupby(['Crew Chief'])['Over Amount'].std(), 2).reset_index(name='over_by_std')\n",
    "under_by_avg = round(df.groupby(['Crew Chief'])['Under Amount'].mean(), 2).reset_index(name='under_by_avg')\n",
    "under_by_std = round(df.groupby(['Crew Chief'])['Under Amount'].std(), 2).reset_index(name='under_by_std')\n",
    "under_percs = round(df.groupby(['Crew Chief'])['Under'].sum()/df.groupby('Crew Chief')['Game Count'].sum() * 100, 2).reset_index(name='under_percentage')\n",
    "avg_totals = round(df.groupby(['Crew Chief'])['Actual Total'].mean(), 2).reset_index(name='mean_actual_total')\n",
    "std_totals = round(df.groupby(['Crew Chief'])['Actual Total'].std(), 2).reset_index(name='std_actual_total')\n",
    "avg_opening_total = round(df.groupby(['Crew Chief'])['Open Total'].mean(), 2).reset_index(name='mean_open_total')\n",
    "\n",
    "groupby_results = [game_counts, over_percs, over_by_avg, over_by_std, under_by_avg, under_by_std, under_percs, avg_totals, std_totals, avg_opening_total]\n",
    "chief_stats = reduce(lambda left, right: pd.merge(left, right, on='Crew Chief'), groupby_results)"
   ]
  },
  {
   "cell_type": "code",
   "execution_count": 48,
   "metadata": {},
   "outputs": [
    {
     "data": {
      "text/html": [
       "<div>\n",
       "<style scoped>\n",
       "    .dataframe tbody tr th:only-of-type {\n",
       "        vertical-align: middle;\n",
       "    }\n",
       "\n",
       "    .dataframe tbody tr th {\n",
       "        vertical-align: top;\n",
       "    }\n",
       "\n",
       "    .dataframe thead th {\n",
       "        text-align: right;\n",
       "    }\n",
       "</style>\n",
       "<table border=\"1\" class=\"dataframe\">\n",
       "  <thead>\n",
       "    <tr style=\"text-align: right;\">\n",
       "      <th></th>\n",
       "      <th>Crew Chief</th>\n",
       "      <th>games</th>\n",
       "      <th>over_percentage</th>\n",
       "      <th>under_percentage</th>\n",
       "    </tr>\n",
       "  </thead>\n",
       "  <tbody>\n",
       "    <tr>\n",
       "      <th>7</th>\n",
       "      <td>Ed Malloy</td>\n",
       "      <td>29.0</td>\n",
       "      <td>24.14</td>\n",
       "      <td>75.86</td>\n",
       "    </tr>\n",
       "    <tr>\n",
       "      <th>22</th>\n",
       "      <td>Pat Fraher</td>\n",
       "      <td>19.0</td>\n",
       "      <td>31.58</td>\n",
       "      <td>68.42</td>\n",
       "    </tr>\n",
       "    <tr>\n",
       "      <th>24</th>\n",
       "      <td>Scott Foster</td>\n",
       "      <td>24.0</td>\n",
       "      <td>70.83</td>\n",
       "      <td>29.17</td>\n",
       "    </tr>\n",
       "  </tbody>\n",
       "</table>\n",
       "</div>"
      ],
      "text/plain": [
       "      Crew Chief  games  over_percentage  under_percentage\n",
       "7      Ed Malloy   29.0            24.14             75.86\n",
       "22    Pat Fraher   19.0            31.58             68.42\n",
       "24  Scott Foster   24.0            70.83             29.17"
      ]
     },
     "execution_count": 48,
     "metadata": {},
     "output_type": "execute_result"
    }
   ],
   "source": [
    "chief_stats[(chief_stats.games >= 15) &\n",
    "            ((chief_stats.over_percentage > 66) | (chief_stats.under_percentage > 66))  ][['Crew Chief', 'games', 'over_percentage', 'under_percentage']].sort_values(by='over_percentage')"
   ]
  },
  {
   "cell_type": "code",
   "execution_count": 49,
   "metadata": {},
   "outputs": [],
   "source": [
    "home_df = df[['Home', 'Game Count', 'Over', 'Under', 'Home Points', 'Home Win']].copy()\n",
    "home_df['Location'] = 'Home'\n",
    "home_df.rename(columns={'Home':'Team', 'Home Win':'Win', 'Home Points':'Points'}, inplace=True)\n",
    "\n",
    "away_df = df[['Away', 'Game Count', 'Over', 'Under', 'Away Points', 'Away Win']].copy()\n",
    "away_df['Location'] = 'Away'\n",
    "away_df.rename(columns={'Away':'Team', 'Away Win':'Win', 'Away Points':'Points'}, inplace=True)\n",
    "\n",
    "home_away_df = pd.concat([home_df, away_df])"
   ]
  },
  {
   "cell_type": "code",
   "execution_count": 50,
   "metadata": {},
   "outputs": [
    {
     "data": {
      "text/html": [
       "<div>\n",
       "<style scoped>\n",
       "    .dataframe tbody tr th:only-of-type {\n",
       "        vertical-align: middle;\n",
       "    }\n",
       "\n",
       "    .dataframe tbody tr th {\n",
       "        vertical-align: top;\n",
       "    }\n",
       "\n",
       "    .dataframe thead th {\n",
       "        text-align: right;\n",
       "    }\n",
       "</style>\n",
       "<table border=\"1\" class=\"dataframe\">\n",
       "  <thead>\n",
       "    <tr style=\"text-align: right;\">\n",
       "      <th></th>\n",
       "      <th>Team</th>\n",
       "      <th>Over Percentage</th>\n",
       "    </tr>\n",
       "  </thead>\n",
       "  <tbody>\n",
       "    <tr>\n",
       "      <th>16</th>\n",
       "      <td>MIA</td>\n",
       "      <td>100.00</td>\n",
       "    </tr>\n",
       "    <tr>\n",
       "      <th>14</th>\n",
       "      <td>MEM</td>\n",
       "      <td>72.97</td>\n",
       "    </tr>\n",
       "    <tr>\n",
       "      <th>7</th>\n",
       "      <td>DEN</td>\n",
       "      <td>64.86</td>\n",
       "    </tr>\n",
       "    <tr>\n",
       "      <th>0</th>\n",
       "      <td>ATL</td>\n",
       "      <td>63.16</td>\n",
       "    </tr>\n",
       "    <tr>\n",
       "      <th>5</th>\n",
       "      <td>CLE</td>\n",
       "      <td>59.46</td>\n",
       "    </tr>\n",
       "  </tbody>\n",
       "</table>\n",
       "</div>"
      ],
      "text/plain": [
       "    Team  Over Percentage\n",
       "16  MIA            100.00\n",
       "14   MEM            72.97\n",
       "7    DEN            64.86\n",
       "0    ATL            63.16\n",
       "5    CLE            59.46"
      ]
     },
     "execution_count": 50,
     "metadata": {},
     "output_type": "execute_result"
    }
   ],
   "source": [
    "round(home_away_df.groupby(['Team'])['Over'].sum()/\n",
    "                       home_away_df.groupby(['Team'])['Game Count'].sum() * 100, 2).reset_index(name='Over Percentage').sort_values(by='Over Percentage', ascending=False)[0:5]"
   ]
  },
  {
   "cell_type": "code",
   "execution_count": 51,
   "metadata": {},
   "outputs": [
    {
     "data": {
      "text/html": [
       "<div>\n",
       "<style scoped>\n",
       "    .dataframe tbody tr th:only-of-type {\n",
       "        vertical-align: middle;\n",
       "    }\n",
       "\n",
       "    .dataframe tbody tr th {\n",
       "        vertical-align: top;\n",
       "    }\n",
       "\n",
       "    .dataframe thead th {\n",
       "        text-align: right;\n",
       "    }\n",
       "</style>\n",
       "<table border=\"1\" class=\"dataframe\">\n",
       "  <thead>\n",
       "    <tr style=\"text-align: right;\">\n",
       "      <th></th>\n",
       "      <th>Team</th>\n",
       "      <th>Under Percentage</th>\n",
       "    </tr>\n",
       "  </thead>\n",
       "  <tbody>\n",
       "    <tr>\n",
       "      <th>3</th>\n",
       "      <td>CHA</td>\n",
       "      <td>65.71</td>\n",
       "    </tr>\n",
       "    <tr>\n",
       "      <th>9</th>\n",
       "      <td>GSW</td>\n",
       "      <td>63.16</td>\n",
       "    </tr>\n",
       "    <tr>\n",
       "      <th>27</th>\n",
       "      <td>SAS</td>\n",
       "      <td>62.16</td>\n",
       "    </tr>\n",
       "    <tr>\n",
       "      <th>12</th>\n",
       "      <td>LAC</td>\n",
       "      <td>62.16</td>\n",
       "    </tr>\n",
       "    <tr>\n",
       "      <th>2</th>\n",
       "      <td>BOS</td>\n",
       "      <td>57.89</td>\n",
       "    </tr>\n",
       "  </tbody>\n",
       "</table>\n",
       "</div>"
      ],
      "text/plain": [
       "   Team  Under Percentage\n",
       "3   CHA             65.71\n",
       "9   GSW             63.16\n",
       "27  SAS             62.16\n",
       "12  LAC             62.16\n",
       "2   BOS             57.89"
      ]
     },
     "execution_count": 51,
     "metadata": {},
     "output_type": "execute_result"
    }
   ],
   "source": [
    "round(home_away_df.groupby(['Team'])['Under'].sum()/\n",
    "                       home_away_df.groupby(['Team'])['Game Count'].sum() * 100, 2).reset_index(name='Under Percentage').sort_values(by='Under Percentage', ascending=False)[0:5]"
   ]
  }
 ],
 "metadata": {
  "language_info": {
   "name": "python"
  }
 },
 "nbformat": 4,
 "nbformat_minor": 2
}
