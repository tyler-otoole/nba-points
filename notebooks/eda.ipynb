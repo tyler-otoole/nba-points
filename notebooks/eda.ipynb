{
 "cells": [
  {
   "cell_type": "code",
   "execution_count": 1,
   "metadata": {},
   "outputs": [],
   "source": [
    "import pandas as pd\n",
    "from functools import reduce\n",
    "import matplotlib.pyplot as plt"
   ]
  },
  {
   "cell_type": "code",
   "execution_count": 2,
   "metadata": {},
   "outputs": [],
   "source": [
    "file_path = '../data/nba_points_2024_2025.xlsx'\n",
    "df = pd.read_excel(file_path, usecols=\"A:T\")"
   ]
  },
  {
   "cell_type": "code",
   "execution_count": 3,
   "metadata": {},
   "outputs": [],
   "source": [
    "df['Home Win'] = (df['Home Points'] > df['Away Points']).astype(int)\n",
    "df['Away Win'] = (df['Away Points'] > df['Home Points']).astype(int)"
   ]
  },
  {
   "cell_type": "code",
   "execution_count": 4,
   "metadata": {},
   "outputs": [
    {
     "name": "stdout",
     "output_type": "stream",
     "text": [
      "GAMES TRACKED:  791\n",
      "AVG. OPEN TOTAL:  225.23\n",
      "AVG. ACTUAL TOTAL:  226.05\n",
      "OVERS:  53.1 %\n",
      "UNDERS:  46.9 %\n"
     ]
    }
   ],
   "source": [
    "print('GAMES TRACKED: ', round(df['Game Count'].sum()))\n",
    "print('AVG. OPEN TOTAL: ', round(df['Open Total'].mean(), 2))\n",
    "print('AVG. ACTUAL TOTAL: ', round(df['Actual Total'].mean(), 2))\n",
    "print('OVERS: ', round(df['Over'].sum()/df['Game Count'].sum() * 100, 2), '%')\n",
    "print('UNDERS: ', round(df['Under'].sum()/df['Game Count'].sum() * 100, 2), '%')"
   ]
  },
  {
   "cell_type": "code",
   "execution_count": 5,
   "metadata": {},
   "outputs": [],
   "source": [
    "game_counts = df.groupby(['Crew Chief'])['Game Count'].sum().reset_index(name='games')\n",
    "over_percs = round(df.groupby(['Crew Chief'])['Over'].sum()/df.groupby('Crew Chief')['Game Count'].sum() * 100, 2).reset_index(name='over_percentage')\n",
    "over_by_avg = round(df.groupby(['Crew Chief'])['Over Amount'].mean(), 2).reset_index(name='over_by_avg')\n",
    "over_by_std = round(df.groupby(['Crew Chief'])['Over Amount'].std(), 2).reset_index(name='over_by_std')\n",
    "under_by_avg = round(df.groupby(['Crew Chief'])['Under Amount'].mean(), 2).reset_index(name='under_by_avg')\n",
    "under_by_std = round(df.groupby(['Crew Chief'])['Under Amount'].std(), 2).reset_index(name='under_by_std')\n",
    "under_percs = round(df.groupby(['Crew Chief'])['Under'].sum()/df.groupby('Crew Chief')['Game Count'].sum() * 100, 2).reset_index(name='under_percentage')\n",
    "avg_totals = round(df.groupby(['Crew Chief'])['Actual Total'].mean(), 2).reset_index(name='mean_actual_total')\n",
    "std_totals = round(df.groupby(['Crew Chief'])['Actual Total'].std(), 2).reset_index(name='std_actual_total')\n",
    "avg_opening_total = round(df.groupby(['Crew Chief'])['Open Total'].mean(), 2).reset_index(name='mean_open_total')\n",
    "\n",
    "groupby_results = [game_counts, over_percs, over_by_avg, over_by_std, under_by_avg, under_by_std, under_percs, avg_totals, std_totals, avg_opening_total]\n",
    "chief_stats = reduce(lambda left, right: pd.merge(left, right, on='Crew Chief'), groupby_results)"
   ]
  },
  {
   "cell_type": "code",
   "execution_count": 6,
   "metadata": {},
   "outputs": [
    {
     "data": {
      "text/html": [
       "<div>\n",
       "<style scoped>\n",
       "    .dataframe tbody tr th:only-of-type {\n",
       "        vertical-align: middle;\n",
       "    }\n",
       "\n",
       "    .dataframe tbody tr th {\n",
       "        vertical-align: top;\n",
       "    }\n",
       "\n",
       "    .dataframe thead th {\n",
       "        text-align: right;\n",
       "    }\n",
       "</style>\n",
       "<table border=\"1\" class=\"dataframe\">\n",
       "  <thead>\n",
       "    <tr style=\"text-align: right;\">\n",
       "      <th></th>\n",
       "      <th>Crew Chief</th>\n",
       "      <th>games</th>\n",
       "      <th>over_percentage</th>\n",
       "      <th>under_percentage</th>\n",
       "    </tr>\n",
       "  </thead>\n",
       "  <tbody>\n",
       "    <tr>\n",
       "      <th>13</th>\n",
       "      <td>Josh Tiven</td>\n",
       "      <td>42.0</td>\n",
       "      <td>66.67</td>\n",
       "      <td>33.33</td>\n",
       "    </tr>\n",
       "    <tr>\n",
       "      <th>24</th>\n",
       "      <td>Scott Foster</td>\n",
       "      <td>37.0</td>\n",
       "      <td>70.27</td>\n",
       "      <td>29.73</td>\n",
       "    </tr>\n",
       "  </tbody>\n",
       "</table>\n",
       "</div>"
      ],
      "text/plain": [
       "      Crew Chief  games  over_percentage  under_percentage\n",
       "13    Josh Tiven   42.0            66.67             33.33\n",
       "24  Scott Foster   37.0            70.27             29.73"
      ]
     },
     "execution_count": 6,
     "metadata": {},
     "output_type": "execute_result"
    }
   ],
   "source": [
    "chief_stats[(chief_stats.games >= 15) &\n",
    "            ((chief_stats.over_percentage > 66) | (chief_stats.under_percentage > 66))  ][['Crew Chief', 'games', 'over_percentage', 'under_percentage']].sort_values(by='over_percentage')"
   ]
  }
 ],
 "metadata": {
  "language_info": {
   "name": "python"
  }
 },
 "nbformat": 4,
 "nbformat_minor": 2
}
