{
 "cells": [
  {
   "cell_type": "code",
   "execution_count": 70,
   "metadata": {},
   "outputs": [],
   "source": [
    "import pandas as pd\n",
    "from functools import reduce\n",
    "import matplotlib.pyplot as plt"
   ]
  },
  {
   "cell_type": "code",
   "execution_count": 71,
   "metadata": {},
   "outputs": [],
   "source": [
    "file_path = '../data/nba_points_2024_2025.xlsx'\n",
    "df = pd.read_excel(file_path, usecols=\"A:T\")\n",
    "\n",
    "# Remove whitespace from Home\n",
    "df['Home'] = df['Home'].str.strip()\n",
    "# Remove whitespace from Away\n",
    "df['Away'] = df['Away'].str.strip()\n",
    "\n",
    "# Feature engineering\n",
    "df['Home Win'] = (df['Home Points'] > df['Away Points']).astype(int)\n",
    "df['Away Win'] = (df['Away Points'] > df['Home Points']).astype(int)\n",
    "\n",
    "# Assume df is your original DataFrame with a 'Date' column and 'Home' and 'Away' columns\n",
    "df['Date'] = pd.to_datetime(df['Date'])\n",
    "# Build a dictionary mapping each team to the set of dates they've played.\n",
    "teams = pd.concat([df['Home'], df['Away']]).unique()\n",
    "team_dates = {}\n",
    "for team in teams:\n",
    "    # Get all games (dates) where the team appears as home or away.\n",
    "    team_games = df[(df['Home'] == team) | (df['Away'] == team)]\n",
    "    # Use dt.date to focus on the date part only.\n",
    "    team_dates[team] = set(team_games['Date'].dt.date)\n",
    "# Helper function to check if a team played on the day before the current date.\n",
    "def played_yesterday(team, current_date):\n",
    "    # Subtract one day from the current date and compare as a date.\n",
    "    previous_date = (current_date - pd.Timedelta(days=1)).date()\n",
    "    return previous_date in team_dates.get(team, set())\n",
    "# Create new columns using apply:\n",
    "df['Away BackToBack'] = df.apply(lambda row: played_yesterday(row['Away'], row['Date']), axis=1)\n",
    "df['Home BackToBack'] = df.apply(lambda row: played_yesterday(row['Home'], row['Date']), axis=1)\n",
    "df['Either BackToBack'] = df['Away BackToBack'] | df['Home BackToBack']\n",
    "df['Both BackToBack'] = df['Away BackToBack'] & df['Home BackToBack']"
   ]
  },
  {
   "cell_type": "code",
   "execution_count": 72,
   "metadata": {},
   "outputs": [
    {
     "name": "stdout",
     "output_type": "stream",
     "text": [
      "Away BackToBacks:  176  |  19 %\n",
      "Home BackToBacks:  165  |  18 %\n",
      "Either BackToBacks:  287  |  31 %\n",
      "Both BackToBacks:  54  |  6 %\n"
     ]
    }
   ],
   "source": [
    "print('Away BackToBacks: ', df['Away BackToBack'].sum(), \" | \" ,round(df['Away BackToBack'].mean() * 100), '%')\n",
    "print('Home BackToBacks: ', df['Home BackToBack'].sum(), \" | \" ,round(df['Home BackToBack'].mean() * 100), '%')\n",
    "print('Either BackToBacks: ', df['Either BackToBack'].sum(), \" | \" ,round(df['Either BackToBack'].mean() * 100), '%')\n",
    "print('Both BackToBacks: ', df['Both BackToBack'].sum(), \" | \" ,round(df['Both BackToBack'].mean() * 100), '%')"
   ]
  },
  {
   "cell_type": "code",
   "execution_count": 73,
   "metadata": {},
   "outputs": [
    {
     "data": {
      "text/plain": [
       "Index(['Date', 'Weekday', 'Away', 'Home', 'NBA Cup Game', 'Crew Chief',\n",
       "       'Referee', 'Umpire', 'Open Total', 'Open Home Spread', 'Away Points',\n",
       "       'Home Points', 'Actual Total', 'Actual Home Spread', 'Game Count',\n",
       "       'Over', 'Over Amount', 'Under', 'Under Amount', 'Push', 'Home Win',\n",
       "       'Away Win', 'Away BackToBack', 'Home BackToBack', 'Either BackToBack',\n",
       "       'Both BackToBack'],\n",
       "      dtype='object')"
      ]
     },
     "execution_count": 73,
     "metadata": {},
     "output_type": "execute_result"
    }
   ],
   "source": [
    "df.columns"
   ]
  },
  {
   "cell_type": "code",
   "execution_count": 74,
   "metadata": {},
   "outputs": [
    {
     "name": "stdout",
     "output_type": "stream",
     "text": [
      "Games Tracked:  923\n",
      "Average Open Total:  225.84\n",
      "Average Actual Total:  226.67\n",
      "Over Percent:  52.59\n",
      "Under Percent:  47.08\n",
      "First Date Tracked:  2024-10-22\n",
      "Last Date Tracked:  2025-03-05\n"
     ]
    }
   ],
   "source": [
    "print('Games Tracked: ', round(df['Game Count'].sum()))\n",
    "print('Average Open Total: ', round(df['Open Total'].mean(), 2))\n",
    "print('Average Actual Total: ', round(df['Actual Total'].mean(), 2))\n",
    "print('Over Percent: ', round(df['Over'].mean() * 100, 2))\n",
    "print('Under Percent: ', round(df['Under'].mean() * 100, 2))\n",
    "print('First Date Tracked: ', df[df['Game Count'] == 1]['Date'].dt.strftime('%Y-%m-%d').min())\n",
    "print('Last Date Tracked: ', df[df['Game Count'] == 1]['Date'].dt.strftime('%Y-%m-%d').max())"
   ]
  },
  {
   "cell_type": "code",
   "execution_count": 75,
   "metadata": {},
   "outputs": [],
   "source": [
    "# Get all unique team names from both Home and Away columns\n",
    "teams = pd.concat([df['Home'], df['Away']]).unique()\n",
    "\n",
    "# Initialize a list to store the stats for each team\n",
    "stats = []\n",
    "\n",
    "for team in teams:\n",
    "    # Overall: games where the team is either home or away\n",
    "    team_games = df[(df['Home'] == team) | (df['Away'] == team)]\n",
    "    overall_over_pct = team_games['Over'].mean() * 100  # Proportion of games with Over\n",
    "    \n",
    "    # Home games only\n",
    "    home_games = df[df['Home'] == team]\n",
    "    home_over_pct = home_games['Over'].mean() * 100 if not home_games.empty else None\n",
    "    \n",
    "    # Away games only\n",
    "    away_games = df[df['Away'] == team]\n",
    "    away_over_pct = away_games['Over'].mean() * 100 if not away_games.empty else None\n",
    "    \n",
    "    stats.append({\n",
    "        'Team': team,\n",
    "        'Overall Over %': overall_over_pct,\n",
    "        'Home Over %': home_over_pct,\n",
    "        'Away Over %': away_over_pct\n",
    "    })\n",
    "\n",
    "# Convert the list of stats into a DataFrame\n",
    "stats_df = pd.DataFrame(stats)"
   ]
  },
  {
   "cell_type": "code",
   "execution_count": 76,
   "metadata": {},
   "outputs": [
    {
     "name": "stdout",
     "output_type": "stream",
     "text": [
      "Teams with the Most Overs:\n",
      "--------------------------------------------------\n",
      "   Team  Overall Over %  Home Over %  Away Over %\n",
      "23  MEM       68.852459    62.500000    75.862069\n",
      "5   ATL       61.290323    68.965517    54.545455\n",
      "17  CLE       60.655738    60.606061    60.714286\n",
      "9   UTA       60.317460    54.545455    66.666667\n",
      "14  DEN       59.677419    66.666667    53.125000\n",
      "18  NYK       58.333333    56.250000    60.714286\n",
      "3   PHI       57.377049    53.125000    62.068966\n",
      "7   NOP       57.377049    54.838710    60.000000\n"
     ]
    }
   ],
   "source": [
    "# teams with highest over percentage\n",
    "print('Teams with the Most Overs:')\n",
    "print('-' * 50)\n",
    "print(stats_df.sort_values('Overall Over %', ascending=False).head(round(30*.25))) # top 25%"
   ]
  },
  {
   "cell_type": "code",
   "execution_count": 77,
   "metadata": {},
   "outputs": [
    {
     "name": "stdout",
     "output_type": "stream",
     "text": [
      "Teams with the Most Unders:\n",
      "--------------------------------------------------\n",
      "   Team  Overall Over %  Home Over %  Away Over %\n",
      "20  CHA       37.704918    34.375000    41.379310\n",
      "16  ORL       41.538462    33.333333    50.000000\n",
      "27  BKN       43.333333    39.285714    46.875000\n",
      "29  GSW       43.548387    36.666667    50.000000\n",
      "0   BOS       45.161290    51.612903    38.709677\n",
      "11  LAC       46.774194    46.666667    46.875000\n",
      "24  SAS       48.333333    50.000000    46.666667\n",
      "13  DAL       49.206349    37.500000    61.290323\n"
     ]
    }
   ],
   "source": [
    "# teams with highest over percentage\n",
    "print('Teams with the Most Unders:')\n",
    "print('-' * 50)\n",
    "print(stats_df.sort_values('Overall Over %', ascending=True).head(round(30*.25))) # top 25%"
   ]
  },
  {
   "cell_type": "code",
   "execution_count": 78,
   "metadata": {},
   "outputs": [],
   "source": [
    "# Ensure the 'Date' column is datetime\n",
    "df['Date'] = pd.to_datetime(df['Date'])\n",
    "\n",
    "# Get all unique team names from both Home and Away columns\n",
    "teams = pd.concat([df['Home'], df['Away']]).unique()\n",
    "\n",
    "# List to hold stats for each team\n",
    "stats = []\n",
    "\n",
    "for team in teams:\n",
    "    # Overall games for the team (as home or away)\n",
    "    team_games = df[(df['Home'] == team) | (df['Away'] == team)]\n",
    "    team_games_last10 = team_games.sort_values('Date').tail(10)\n",
    "    \n",
    "    # Home games for the team\n",
    "    home_games = df[df['Home'] == team]\n",
    "    home_games_last10 = home_games.sort_values('Date').tail(10)\n",
    "    \n",
    "    # Away games for the team\n",
    "    away_games = df[df['Away'] == team]\n",
    "    away_games_last10 = away_games.sort_values('Date').tail(10)\n",
    "    \n",
    "    # Calculate Over % for each subset\n",
    "    overall_over_pct = team_games_last10['Over'].mean() * 100 if not team_games_last10.empty else None\n",
    "    home_over_pct = home_games_last10['Over'].mean() * 100 if not home_games_last10.empty else None\n",
    "    away_over_pct = away_games_last10['Over'].mean() * 100 if not away_games_last10.empty else None\n",
    "\n",
    "    # Calculate scoring averages\n",
    "    # For overall games, pick the appropriate points column based on whether the team was home or away.\n",
    "    def get_team_points(row):\n",
    "        return row['Home Points'] if row['Home'] == team else row['Away Points']\n",
    "    \n",
    "    if not team_games_last10.empty:\n",
    "        overall_team_points = team_games_last10.apply(get_team_points, axis=1)\n",
    "        overall_avg_points = overall_team_points.mean()\n",
    "    else:\n",
    "        overall_avg_points = None\n",
    "\n",
    "    home_avg_points = home_games_last10['Home Points'].mean() if not home_games_last10.empty else None\n",
    "    away_avg_points = away_games_last10['Away Points'].mean() if not away_games_last10.empty else None\n",
    "    overall_avg_total = team_games_last10['Actual Total'].mean()\n",
    "    overall_avg_open_total = team_games_last10['Open Total'].mean()\n",
    "    \n",
    "    stats.append({\n",
    "        'Team': team,\n",
    "        'Overall Over % Last10': overall_over_pct,\n",
    "        'Home Over % Last10': home_over_pct,\n",
    "        'Away Over % Last10': away_over_pct\n",
    "        #'Overall Avg Points (last10)': overall_avg_points,\n",
    "        #'Home Avg Points (last10)': home_avg_points,\n",
    "        #'Away Avg Points (last10)': away_avg_points,\n",
    "        #'Overall Avg Total Last10': overall_avg_total,\n",
    "        #'Overall Avg Open Last10': overall_avg_open_total,\n",
    "    })\n",
    "\n",
    "# Convert the list of stats into a DataFrame and display\n",
    "stats10_df = pd.DataFrame(stats)"
   ]
  },
  {
   "cell_type": "code",
   "execution_count": 79,
   "metadata": {},
   "outputs": [
    {
     "name": "stdout",
     "output_type": "stream",
     "text": [
      "Teams with the most Overs in their last 10 games:\n",
      "----------------------------------------------------------------------\n",
      "   Team  Overall Over % Last10  Home Over % Last10  Away Over % Last10\n",
      "9   UTA                   80.0                80.0                70.0\n",
      "10  POR                   70.0                50.0                60.0\n",
      "28  OKC                   70.0                80.0                60.0\n",
      "17  CLE                   70.0                70.0                60.0\n",
      "11  LAC                   70.0                70.0                70.0\n",
      "5   ATL                   70.0                60.0                70.0\n",
      "22  CHI                   60.0                70.0                40.0\n",
      "21  MIN                   60.0                50.0                80.0\n"
     ]
    }
   ],
   "source": [
    "print('Teams with the most Overs in their last 10 games:')\n",
    "print('-'*70)\n",
    "print(stats10_df.sort_values(by='Overall Over % Last10',ascending=False).head(8))"
   ]
  },
  {
   "cell_type": "code",
   "execution_count": 80,
   "metadata": {},
   "outputs": [],
   "source": [
    "# Group by 'Crew Chief' and calculate required stats\n",
    "crew_stats = df.groupby('Crew Chief').agg(\n",
    "    games_count=('Crew Chief', 'size'), # total number of games for each crew chief\n",
    "    over_count=('Over', lambda x: x.sum()),\n",
    "    under_count=('Under', lambda x: x.sum())\n",
    ").reset_index()\n",
    "\n",
    "# Calculate over percentage\n",
    "crew_stats['over_percentage'] = (crew_stats['over_count'] / crew_stats['games_count']) * 100\n",
    "crew_stats['under_percentage'] = (crew_stats['under_count'] / crew_stats['games_count']) * 100"
   ]
  },
  {
   "cell_type": "code",
   "execution_count": 81,
   "metadata": {},
   "outputs": [
    {
     "name": "stdout",
     "output_type": "stream",
     "text": [
      "Crew Chiefs with the Most UNDERS (min 15 games)\n",
      "--------------------------------------------------------\n",
      "             Crew Chief  games_count  under_percentage\n",
      "9           Jacyn Goble           16         68.750000\n",
      "7             Ed Malloy           45         62.222222\n",
      "11       James Williams           47         59.574468\n",
      "6         David Guthrie           19         57.894737\n",
      "22           Pat Fraher           35         54.285714\n",
      "8   Gediminas Petraitis           24         54.166667\n",
      "1          Bill Kennedy           26         53.846154\n"
     ]
    }
   ],
   "source": [
    "print('Crew Chiefs with the Most UNDERS (min 15 games)')\n",
    "print('--' * 28)\n",
    "print(crew_stats[crew_stats['games_count']>=15][['Crew Chief',\n",
    "                                                 'games_count',\n",
    "                                                 'under_percentage']].sort_values(by='under_percentage',\n",
    "                                                                                  ascending=False).head(7))"
   ]
  },
  {
   "cell_type": "code",
   "execution_count": 82,
   "metadata": {},
   "outputs": [
    {
     "name": "stdout",
     "output_type": "stream",
     "text": [
      "Crew Chiefs with the Most OVERS (min 15 games)\n",
      "--------------------------------------------------------\n",
      "        Crew Chief  games_count  over_percentage\n",
      "28      Tyler Ford           50        66.000000\n",
      "24    Scott Foster           42        64.285714\n",
      "13      Josh Tiven           49        63.265306\n",
      "18      Marc Davis           46        60.869565\n",
      "20  Mitchell Ervin           35        57.142857\n",
      "19    Mark Lindsay           37        56.756757\n",
      "3      Brian Forte           30        56.666667\n"
     ]
    }
   ],
   "source": [
    "print('Crew Chiefs with the Most OVERS (min 15 games)')\n",
    "print('--' * 28)\n",
    "print(crew_stats[crew_stats['games_count']>=15][['Crew Chief',\n",
    "                                                 'games_count',\n",
    "                                                 'over_percentage']].sort_values(by='over_percentage',\n",
    "                                                                                  ascending=False).head(7))"
   ]
  }
 ],
 "metadata": {
  "kernelspec": {
   "display_name": "venv",
   "language": "python",
   "name": "python3"
  },
  "language_info": {
   "codemirror_mode": {
    "name": "ipython",
    "version": 3
   },
   "file_extension": ".py",
   "mimetype": "text/x-python",
   "name": "python",
   "nbconvert_exporter": "python",
   "pygments_lexer": "ipython3",
   "version": "3.13.0"
  }
 },
 "nbformat": 4,
 "nbformat_minor": 2
}
